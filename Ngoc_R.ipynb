{
 "cells": [
  {
   "cell_type": "code",
   "execution_count": 80,
   "id": "c390ec78-6c11-4bb5-8907-3d45e5722a5c",
   "metadata": {
    "tags": []
   },
   "outputs": [],
   "source": [
    "# Loading the necessary libraries\n",
    "library(ggplot2)\n",
    "library(tidyverse)\n",
    "library(gridExtra)\n",
    "library(plotly)\n",
    "library(corrplot)\n",
    "library(reshape2)\n",
    "library(FactoMineR) \n",
    "library(factoextra)\n",
    "library(glmnet) \n",
    "library(ggfortify)\n",
    "library(pROC)\n",
    "library(ROCR)\n"
   ]
  },
  {
   "cell_type": "markdown",
   "id": "829e6b50-0973-47c0-93db-7f20fb19c451",
   "metadata": {},
   "source": [
    "person_age : Âge de la personne  \n",
    "person_gender : Genre de la personne  \n",
    "person_education : Niveau d'éducation le plus élevé  \n",
    "person_income : Revenu annuel  \n",
    "person_emp_exp : Années d'expérience professionnelle  \n",
    "person_home_ownership : Statut de propriété du logement (ex. : location, propriétaire, hypothèque)  \n",
    "loan_amnt : Montant du prêt demandé  \n",
    "loan_intent : Objet du prêt  \n",
    "loan_int_rate : Taux d'intérêt du prêt  \n",
    "loan_percent_income : Montant du prêt en pourcentage du revenu annuel  \n",
    "cb_person_cred_hist_length : Durée de l'historique de crédit en années  \n",
    "credit_score : Score de crédit de la personne  \n",
    "previous_loan_defaults_on_file : Indicateur de défauts de paiement sur des prêts précédents  \n",
    "loan_status : Statut d'approbation du prêt (1 = approuvé ; 0 = refusé)  \n"
   ]
  },
  {
   "cell_type": "code",
   "execution_count": 81,
   "id": "b0acfeac-d4f4-4113-b33b-a81f44f58c8f",
   "metadata": {
    "tags": []
   },
   "outputs": [
    {
     "data": {
      "text/html": [
       "<table class=\"dataframe\">\n",
       "<caption>A data.frame: 6 × 12</caption>\n",
       "<thead>\n",
       "\t<tr><th></th><th scope=col>person_gender</th><th scope=col>person_education</th><th scope=col>person_income</th><th scope=col>person_emp_exp</th><th scope=col>person_home_ownership</th><th scope=col>loan_amnt</th><th scope=col>loan_intent</th><th scope=col>loan_int_rate</th><th scope=col>cb_person_cred_hist_length</th><th scope=col>credit_score</th><th scope=col>previous_loan_defaults_on_file</th><th scope=col>loan_status</th></tr>\n",
       "\t<tr><th></th><th scope=col>&lt;chr&gt;</th><th scope=col>&lt;chr&gt;</th><th scope=col>&lt;dbl&gt;</th><th scope=col>&lt;int&gt;</th><th scope=col>&lt;chr&gt;</th><th scope=col>&lt;dbl&gt;</th><th scope=col>&lt;chr&gt;</th><th scope=col>&lt;dbl&gt;</th><th scope=col>&lt;dbl&gt;</th><th scope=col>&lt;int&gt;</th><th scope=col>&lt;chr&gt;</th><th scope=col>&lt;int&gt;</th></tr>\n",
       "</thead>\n",
       "<tbody>\n",
       "\t<tr><th scope=row>1</th><td>female</td><td>Master     </td><td>71948</td><td>0</td><td>RENT    </td><td>35000</td><td>PERSONAL </td><td>16.02</td><td>3</td><td>561</td><td>No </td><td>1</td></tr>\n",
       "\t<tr><th scope=row>2</th><td>female</td><td>High School</td><td>12282</td><td>0</td><td>OWN     </td><td> 1000</td><td>EDUCATION</td><td>11.14</td><td>2</td><td>504</td><td>Yes</td><td>0</td></tr>\n",
       "\t<tr><th scope=row>3</th><td>female</td><td>High School</td><td>12438</td><td>3</td><td>MORTGAGE</td><td> 5500</td><td>MEDICAL  </td><td>12.87</td><td>3</td><td>635</td><td>No </td><td>1</td></tr>\n",
       "\t<tr><th scope=row>4</th><td>female</td><td>Bachelor   </td><td>79753</td><td>0</td><td>RENT    </td><td>35000</td><td>MEDICAL  </td><td>15.23</td><td>2</td><td>675</td><td>No </td><td>1</td></tr>\n",
       "\t<tr><th scope=row>5</th><td>male  </td><td>Master     </td><td>66135</td><td>1</td><td>RENT    </td><td>35000</td><td>MEDICAL  </td><td>14.27</td><td>4</td><td>586</td><td>No </td><td>1</td></tr>\n",
       "\t<tr><th scope=row>6</th><td>female</td><td>High School</td><td>12951</td><td>0</td><td>OWN     </td><td> 2500</td><td>VENTURE  </td><td> 7.14</td><td>2</td><td>532</td><td>No </td><td>1</td></tr>\n",
       "</tbody>\n",
       "</table>\n"
      ],
      "text/latex": [
       "A data.frame: 6 × 12\n",
       "\\begin{tabular}{r|llllllllllll}\n",
       "  & person\\_gender & person\\_education & person\\_income & person\\_emp\\_exp & person\\_home\\_ownership & loan\\_amnt & loan\\_intent & loan\\_int\\_rate & cb\\_person\\_cred\\_hist\\_length & credit\\_score & previous\\_loan\\_defaults\\_on\\_file & loan\\_status\\\\\n",
       "  & <chr> & <chr> & <dbl> & <int> & <chr> & <dbl> & <chr> & <dbl> & <dbl> & <int> & <chr> & <int>\\\\\n",
       "\\hline\n",
       "\t1 & female & Master      & 71948 & 0 & RENT     & 35000 & PERSONAL  & 16.02 & 3 & 561 & No  & 1\\\\\n",
       "\t2 & female & High School & 12282 & 0 & OWN      &  1000 & EDUCATION & 11.14 & 2 & 504 & Yes & 0\\\\\n",
       "\t3 & female & High School & 12438 & 3 & MORTGAGE &  5500 & MEDICAL   & 12.87 & 3 & 635 & No  & 1\\\\\n",
       "\t4 & female & Bachelor    & 79753 & 0 & RENT     & 35000 & MEDICAL   & 15.23 & 2 & 675 & No  & 1\\\\\n",
       "\t5 & male   & Master      & 66135 & 1 & RENT     & 35000 & MEDICAL   & 14.27 & 4 & 586 & No  & 1\\\\\n",
       "\t6 & female & High School & 12951 & 0 & OWN      &  2500 & VENTURE   &  7.14 & 2 & 532 & No  & 1\\\\\n",
       "\\end{tabular}\n"
      ],
      "text/markdown": [
       "\n",
       "A data.frame: 6 × 12\n",
       "\n",
       "| <!--/--> | person_gender &lt;chr&gt; | person_education &lt;chr&gt; | person_income &lt;dbl&gt; | person_emp_exp &lt;int&gt; | person_home_ownership &lt;chr&gt; | loan_amnt &lt;dbl&gt; | loan_intent &lt;chr&gt; | loan_int_rate &lt;dbl&gt; | cb_person_cred_hist_length &lt;dbl&gt; | credit_score &lt;int&gt; | previous_loan_defaults_on_file &lt;chr&gt; | loan_status &lt;int&gt; |\n",
       "|---|---|---|---|---|---|---|---|---|---|---|---|---|\n",
       "| 1 | female | Master      | 71948 | 0 | RENT     | 35000 | PERSONAL  | 16.02 | 3 | 561 | No  | 1 |\n",
       "| 2 | female | High School | 12282 | 0 | OWN      |  1000 | EDUCATION | 11.14 | 2 | 504 | Yes | 0 |\n",
       "| 3 | female | High School | 12438 | 3 | MORTGAGE |  5500 | MEDICAL   | 12.87 | 3 | 635 | No  | 1 |\n",
       "| 4 | female | Bachelor    | 79753 | 0 | RENT     | 35000 | MEDICAL   | 15.23 | 2 | 675 | No  | 1 |\n",
       "| 5 | male   | Master      | 66135 | 1 | RENT     | 35000 | MEDICAL   | 14.27 | 4 | 586 | No  | 1 |\n",
       "| 6 | female | High School | 12951 | 0 | OWN      |  2500 | VENTURE   |  7.14 | 2 | 532 | No  | 1 |\n",
       "\n"
      ],
      "text/plain": [
       "  person_gender person_education person_income person_emp_exp\n",
       "1 female        Master           71948         0             \n",
       "2 female        High School      12282         0             \n",
       "3 female        High School      12438         3             \n",
       "4 female        Bachelor         79753         0             \n",
       "5 male          Master           66135         1             \n",
       "6 female        High School      12951         0             \n",
       "  person_home_ownership loan_amnt loan_intent loan_int_rate\n",
       "1 RENT                  35000     PERSONAL    16.02        \n",
       "2 OWN                    1000     EDUCATION   11.14        \n",
       "3 MORTGAGE               5500     MEDICAL     12.87        \n",
       "4 RENT                  35000     MEDICAL     15.23        \n",
       "5 RENT                  35000     MEDICAL     14.27        \n",
       "6 OWN                    2500     VENTURE      7.14        \n",
       "  cb_person_cred_hist_length credit_score previous_loan_defaults_on_file\n",
       "1 3                          561          No                            \n",
       "2 2                          504          Yes                           \n",
       "3 3                          635          No                            \n",
       "4 2                          675          No                            \n",
       "5 4                          586          No                            \n",
       "6 2                          532          No                            \n",
       "  loan_status\n",
       "1 1          \n",
       "2 0          \n",
       "3 1          \n",
       "4 1          \n",
       "5 1          \n",
       "6 1          "
      ]
     },
     "metadata": {},
     "output_type": "display_data"
    },
    {
     "data": {
      "text/plain": [
       " person_gender      person_education   person_income     person_emp_exp  \n",
       " Length:45000       Length:45000       Min.   :   8000   Min.   :  0.00  \n",
       " Class :character   Class :character   1st Qu.:  47204   1st Qu.:  1.00  \n",
       " Mode  :character   Mode  :character   Median :  67048   Median :  4.00  \n",
       "                                       Mean   :  80319   Mean   :  5.41  \n",
       "                                       3rd Qu.:  95789   3rd Qu.:  8.00  \n",
       "                                       Max.   :7200766   Max.   :125.00  \n",
       " person_home_ownership   loan_amnt     loan_intent        loan_int_rate  \n",
       " Length:45000          Min.   :  500   Length:45000       Min.   : 5.42  \n",
       " Class :character      1st Qu.: 5000   Class :character   1st Qu.: 8.59  \n",
       " Mode  :character      Median : 8000   Mode  :character   Median :11.01  \n",
       "                       Mean   : 9583                      Mean   :11.01  \n",
       "                       3rd Qu.:12237                      3rd Qu.:12.99  \n",
       "                       Max.   :35000                      Max.   :20.00  \n",
       " cb_person_cred_hist_length  credit_score   previous_loan_defaults_on_file\n",
       " Min.   : 2.000             Min.   :390.0   Length:45000                  \n",
       " 1st Qu.: 3.000             1st Qu.:601.0   Class :character              \n",
       " Median : 4.000             Median :640.0   Mode  :character              \n",
       " Mean   : 5.867             Mean   :632.6                                 \n",
       " 3rd Qu.: 8.000             3rd Qu.:670.0                                 \n",
       " Max.   :30.000             Max.   :850.0                                 \n",
       "  loan_status    \n",
       " Min.   :0.0000  \n",
       " 1st Qu.:0.0000  \n",
       " Median :0.0000  \n",
       " Mean   :0.2222  \n",
       " 3rd Qu.:0.0000  \n",
       " Max.   :1.0000  "
      ]
     },
     "metadata": {},
     "output_type": "display_data"
    }
   ],
   "source": [
    "data <- read.csv(\"loan_data.csv\")\n",
    "data$loan_percent_income <- NULL\n",
    "data$person_age <- NULL\n",
    "head(data)\n",
    "summary(data)"
   ]
  },
  {
   "cell_type": "code",
   "execution_count": 82,
   "id": "bc684765-288b-4152-9426-76a23f65c1fc",
   "metadata": {
    "tags": []
   },
   "outputs": [],
   "source": [
    "data[, \"person_gender\"] <- as.factor(data[, \"person_gender\"])\n",
    "data[, \"person_education\"] <- as.factor(data[, \"person_education\"])\n",
    "data[, \"person_home_ownership\"] <- as.factor(data[, \"person_home_ownership\"])\n",
    "data[, \"loan_intent\"] <- as.factor(data[, \"loan_intent\"])\n",
    "data[, \"previous_loan_defaults_on_file\"] <- as.factor(data[, \"previous_loan_defaults_on_file\"])\n",
    "data[, \"loan_status\"] <- as.factor(data[, \"loan_status\"])"
   ]
  },
  {
   "cell_type": "code",
   "execution_count": 83,
   "id": "0b43531a-18d8-4e8d-8cec-d8f37538c17a",
   "metadata": {
    "tags": []
   },
   "outputs": [
    {
     "name": "stderr",
     "output_type": "stream",
     "text": [
      "Your code contains a unicode char which cannot be displayed in your\n",
      "current locale and R will silently convert it to an escaped form when the\n",
      "R kernel executes this code. This can lead to subtle errors if you use\n",
      "such chars to do comparisons. For more information, please see\n",
      "https://github.com/IRkernel/repr/wiki/Problems-with-unicode-on-windows"
     ]
    },
    {
     "data": {
      "text/html": [
       "0"
      ],
      "text/latex": [
       "0"
      ],
      "text/markdown": [
       "0"
      ],
      "text/plain": [
       "[1] 0"
      ]
     },
     "metadata": {},
     "output_type": "display_data"
    }
   ],
   "source": [
    "sum(is.na(data))  # Đếm tổng số giá trị NA trong toàn bộ dataframe\n"
   ]
  },
  {
   "cell_type": "code",
   "execution_count": 84,
   "id": "d64dd250-8d6c-4479-b349-ce18b7569d42",
   "metadata": {
    "tags": []
   },
   "outputs": [
    {
     "ename": "ERROR",
     "evalue": "Error in eval(e, x, parent.frame()): object 'person_age' not found\n",
     "output_type": "error",
     "traceback": [
      "Error in eval(e, x, parent.frame()): object 'person_age' not found\nTraceback:\n",
      "1. subset.data.frame(data, person_age < person_emp_exp)",
      "2. eval(e, x, parent.frame())",
      "3. eval(e, x, parent.frame())",
      "4. .handleSimpleError(function (cnd) \n . {\n .     watcher$capture_plot_and_output()\n .     cnd <- sanitize_call(cnd)\n .     watcher$push(cnd)\n .     switch(on_error, continue = invokeRestart(\"eval_continue\"), \n .         stop = invokeRestart(\"eval_stop\"), error = NULL)\n . }, \"object 'person_age' not found\", base::quote(eval(e, x, parent.frame())))"
     ]
    }
   ],
   "source": [
    "sum(subset(data, person_age < person_emp_exp))\n",
    "head(subset(data, person_emp_exp >100))"
   ]
  },
  {
   "cell_type": "code",
   "execution_count": null,
   "id": "1f609208-20ea-43c1-ba29-f9d87b13d83a",
   "metadata": {
    "tags": []
   },
   "outputs": [],
   "source": [
    "g3<-ggplot(data,aes(x=person_age))+geom_histogram(aes(y=..density..))+geom_density(alpha=.2, col=\"blue\") \n",
    "g5<-ggplot(data,aes(x=loan_amnt))+geom_histogram(aes(y=..density..))+geom_density(alpha=.2, col=\"blue\") \n",
    "g6<-ggplot(data,aes(x=loan_int_rate))+geom_histogram(aes(y=..density..))+geom_density(alpha=.2, col=\"blue\") \n",
    "g7<-ggplot(data,aes(x=cb_person_cred_hist_length))+geom_histogram(aes(y=..density..))+geom_density(alpha=.2, col=\"blue\") \n",
    "g8<-ggplot(data,aes(x=credit_score))+geom_histogram(aes(y=..density..))+geom_density(alpha=.2, col=\"blue\") \n",
    "\n",
    "grid.arrange(g3,g5,g6,g7,g8,ncol=3)\n",
    "rm(g3,g5,g6,g7,g8)"
   ]
  },
  {
   "cell_type": "code",
   "execution_count": 85,
   "id": "b3649cfb-8512-4b7b-adee-76d0198831b8",
   "metadata": {
    "tags": []
   },
   "outputs": [
    {
     "data": {
      "image/png": "[encoded data removed]",
      "text/plain": [
       "Plot with title \"\""
      ]
     },
     "metadata": {
      "image/png": {
       "height": 420,
       "width": 420
      }
     },
     "output_type": "display_data"
    }
   ],
   "source": [
    "library(corrplot)\n",
    "\n",
    "corrplot(cor(data[,c(3,4,6,8,9,10)]),method=\"number\")\n"
   ]
  },
  {
   "cell_type": "code",
   "execution_count": 104,
   "id": "fb6c82e3-9d36-4c57-b0fb-9a57b3039660",
   "metadata": {
    "tags": []
   },
   "outputs": [
    {
     "ename": "ERROR",
     "evalue": "Error in loadNamespace(j <- i[[1L]], c(lib.loc, .libPaths()), versionCheck = vI[[j]]): there is no package called 'car'\n",
     "output_type": "error",
     "traceback": [
      "Error in loadNamespace(j <- i[[1L]], c(lib.loc, .libPaths()), versionCheck = vI[[j]]): there is no package called 'car'\nTraceback:\n",
      "1. loadNamespace(x)",
      "2. namespaceImportFrom(ns, loadNamespace(j <- i[[1L]], c(lib.loc, \n .     .libPaths()), versionCheck = vI[[j]]), i[[2L]], from = package)",
      "3. asNamespace(ns)",
      "4. loadNamespace(j <- i[[1L]], c(lib.loc, .libPaths()), versionCheck = vI[[j]])",
      "5. namespaceImportFrom(ns, loadNamespace(j <- i[[1L]], c(lib.loc, \n .     .libPaths()), versionCheck = vI[[j]]), i[[2L]], from = package)",
      "6. asNamespace(ns)",
      "7. loadNamespace(j <- i[[1L]], c(lib.loc, .libPaths()), versionCheck = vI[[j]])",
      "8. withRestarts(stop(cond), retry_loadNamespace = function() NULL)",
      "9. withOneRestart(expr, restarts[[1L]])",
      "10. doWithOneRestart(return(expr), restart)",
      "11. stop(cond)"
     ]
    }
   ],
   "source": [
    "library(FactoMineR)\n",
    "library(factoextra)\n",
    "library(corrplot)\n",
    "library(ggplot2)\n",
    "library(reshape2)\n",
    "library(gridExtra)\n",
    "\n",
    "acp <- PCA(data[,c(3,4,6,8,9,10)], scale.unit = TRUE,\n",
    "           graph = FALSE, ncp = 6)\n",
    "\n",
    "fviz_eig(acp, addlabels = TRUE, ylim = c(0, 50))\n",
    "\n"
   ]
  },
  {
   "cell_type": "code",
   "execution_count": 3,
   "id": "048b63f1",
   "metadata": {},
   "outputs": [
    {
     "name": "stderr",
     "output_type": "stream",
     "text": [
      "Warning message:\n",
      "\"package 'pbkrtest' is not available for this version of R\n",
      "\n",
      "A version of this package for your version of R might be available elsewhere,\n",
      "see the ideas at\n",
      "https://cran.r-project.org/doc/manuals/r-patched/R-admin.html#Installing-packages\"\n"
     ]
    }
   ],
   "source": [
    "\n",
    "install.packages(\"pbkrtest\", dependencies = TRUE)\n",
    "\n",
    "\n",
    "\n",
    "\n"
   ]
  },
  {
   "cell_type": "code",
   "execution_count": null,
   "id": "3bd1d1d7-8adf-4389-bf92-96fd8edb2c7e",
   "metadata": {
    "tags": []
   },
   "outputs": [],
   "source": [
    "\n"
   ]
  },
  {
   "cell_type": "code",
   "execution_count": null,
   "id": "035e0b52-9f98-4c34-ac42-95785bc9b82a",
   "metadata": {},
   "outputs": [],
   "source": []
  },
  {
   "cell_type": "code",
   "execution_count": null,
   "id": "304071cb-f62a-4ca0-aa63-eb7f91c00a2d",
   "metadata": {},
   "outputs": [],
   "source": []
  },
  {
   "cell_type": "code",
   "execution_count": null,
   "id": "4fd7b151-153a-4c51-b9dd-4600f3fcd8ba",
   "metadata": {},
   "outputs": [],
   "source": []
  },
  {
   "cell_type": "code",
   "execution_count": null,
   "id": "226094f9-ebaa-4bb4-b43b-d795a582ef3f",
   "metadata": {},
   "outputs": [],
   "source": []
  },
  {
   "cell_type": "code",
   "execution_count": null,
   "id": "6b9ed921-e64d-4c51-86e6-3b75ec5e4652",
   "metadata": {},
   "outputs": [],
   "source": []
  },
  {
   "cell_type": "code",
   "execution_count": null,
   "id": "416837a2-93dc-4bff-93ba-d414ff659acc",
   "metadata": {},
   "outputs": [],
   "source": []
  }
 ],
 "metadata": {
  "kernelspec": {
   "display_name": "R",
   "language": "R",
   "name": "ir"
  },
  "language_info": {
   "codemirror_mode": "r",
   "file_extension": ".r",
   "mimetype": "text/x-r-source",
   "name": "R",
   "pygments_lexer": "r",
   "version": "4.1.3"
  }
 },
 "nbformat": 4,
 "nbformat_minor": 5
}
