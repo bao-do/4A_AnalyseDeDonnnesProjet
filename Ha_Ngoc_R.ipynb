{
 "cells": [
  {
   "cell_type": "code",
   "execution_count": null,
   "id": "c390ec78-6c11-4bb5-8907-3d45e5722a5c",
   "metadata": {
    "tags": []
   },
   "outputs": [],
   "source": [
    "# Loading the necessary libraries\n",
    "library(ggplot2)\n",
    "library(tidyverse)\n",
    "library(gridExtra)\n",
    "library(plotly)\n",
    "library(corrplot)\n",
    "library(reshape2)\n",
    "library(FactoMineR) \n",
    "library(factoextra)\n",
    "library(glmnet) \n",
    "library(ggfortify)\n",
    "library(pROC)\n",
    "library(ROCR)\n"
   ]
  },
  {
   "cell_type": "code",
   "execution_count": null,
   "id": "a56c110d-799a-48ff-8e2d-76a1497440aa",
   "metadata": {
    "tags": []
   },
   "outputs": [],
   "source": [
    "\n",
    "\n"
   ]
  },
  {
   "cell_type": "markdown",
   "id": "829e6b50-0973-47c0-93db-7f20fb19c451",
   "metadata": {},
   "source": [
    "person_age \tAge of the person \tFloat\n",
    "person_gender \tGender of the person \tCategorical\n",
    "person_education \tHighest education level \tCategorical\n",
    "person_income \tAnnual income \tFloat\n",
    "person_emp_exp \tYears of employment experience \tInteger\n",
    "person_home_ownership \tHome ownership status (e.g., rent, own, mortgage) \tCategorical\n",
    "loan_amnt \tLoan amount requested \tFloat\n",
    "loan_intent \tPurpose of the loan \tCategorical\n",
    "loan_int_rate \tLoan interest rate \tFloat\n",
    "loan_percent_income \tLoan amount as a percentage of annual income \tFloat\n",
    "cb_person_cred_hist_length \tLength of credit history in years \tFloat\n",
    "credit_score \tCredit score of the person \tInteger\n",
    "previous_loan_defaults_on_file \tIndicator of previous loan defaults \tCategorical\n",
    "loan_status (target variable) \tLoan approval status: 1 = approved; 0 = rejected \tInteger"
   ]
  },
  {
   "cell_type": "code",
   "execution_count": null,
   "id": "b0acfeac-d4f4-4113-b33b-a81f44f58c8f",
   "metadata": {},
   "outputs": [],
   "source": [
    "data <- read.csv(\"loan_data.csv\")\n",
    "head(data)\n",
    "summary(data)"
   ]
  },
  {
   "cell_type": "code",
   "execution_count": null,
   "id": "bc684765-288b-4152-9426-76a23f65c1fc",
   "metadata": {},
   "outputs": [],
   "source": [
    "data[, \"person_gender\"] <- as.factor(data[, \"person_gender\"])\n",
    "data[, \"person_education\"] <- as.factor(data[, \"person_education\"])\n",
    "data[, \"person_home_ownership\"] <- as.factor(data[, \"person_home_ownership\"])\n",
    "data[, \"loan_intent\t\"] <- as.factor(data[, \"loan_intent\"])\n",
    "data[, \"previous_loan_defaults_on_file\"] <- as.factor(data[, \"previous_loan_defaults_on_file\"])\n",
    "data[, \"loan_status\"] <- as.factor(data[, \"loan_status\"])"
   ]
  },
  {
   "cell_type": "code",
   "execution_count": null,
   "id": "53a927c6-e86f-43e8-a7de-1b478db0cc78",
   "metadata": {},
   "outputs": [],
   "source": [
    "summary(data)"
   ]
  },
  {
   "cell_type": "code",
   "execution_count": null,
   "id": "0b43531a-18d8-4e8d-8cec-d8f37538c17a",
   "metadata": {},
   "outputs": [],
   "source": [
    "sum(is.na(data))  # Đếm tổng số giá trị NA trong toàn bộ dataframe\n"
   ]
  },
  {
   "cell_type": "code",
   "execution_count": null,
   "id": "1f609208-20ea-43c1-ba29-f9d87b13d83a",
   "metadata": {},
   "outputs": [],
   "source": [
    "g3<-ggplot(data,aes(x=person_age))+geom_histogram(aes(y=..density..))+geom_density(alpha=.2, col=\"blue\") \n",
    "g4<-ggplot(data,aes(x=loan_percent_income))+geom_histogram(aes(y=..density..))+geom_density(alpha=.2, col=\"blue\") \n",
    "g5<-ggplot(data,aes(x=loan_amnt))+geom_histogram(aes(y=..density..))+geom_density(alpha=.2, col=\"blue\") \n",
    "g6<-ggplot(data,aes(x=loan_int_rate))+geom_histogram(aes(y=..density..))+geom_density(alpha=.2, col=\"blue\") \n",
    "g7<-ggplot(data,aes(x=cb_person_cred_hist_length))+geom_histogram(aes(y=..density..))+geom_density(alpha=.2, col=\"blue\") \n",
    "g8<-ggplot(data,aes(x=credit_score))+geom_histogram(aes(y=..density..))+geom_density(alpha=.2, col=\"blue\") \n",
    "\n",
    "grid.arrange(g3,g4,g5,g6,g7,g8,ncol=3)\n",
    "rm(g1,g2,g3,g4,g5,g6,g7,g8)"
   ]
  },
  {
   "cell_type": "code",
   "execution_count": null,
   "id": "0b06f995-3e34-469d-afce-2097d96ca72c",
   "metadata": {},
   "outputs": [],
   "source": [
    "data[, \"person_age\"] <- log(data[, \"person_age\"])"
   ]
  },
  {
   "cell_type": "code",
   "execution_count": null,
   "id": "83f7a515-a6da-461e-b8dd-57197df9cf63",
   "metadata": {},
   "outputs": [],
   "source": [
    "g3<-ggplot(data,aes(x=person_age))+geom_histogram(aes(y=..density..))+geom_density(alpha=.2, col=\"blue\") \n",
    "g4<-ggplot(data,aes(x=loan_percent_income))+geom_histogram(aes(y=..density..))+geom_density(alpha=.2, col=\"blue\") \n",
    "g5<-ggplot(data,aes(x=loan_amnt))+geom_histogram(aes(y=..density..))+geom_density(alpha=.2, col=\"blue\") \n",
    "g6<-ggplot(data,aes(x=loan_int_rate))+geom_histogram(aes(y=..density..))+geom_density(alpha=.2, col=\"blue\") \n",
    "g7<-ggplot(data,aes(x=cb_person_cred_hist_length))+geom_histogram(aes(y=..density..))+geom_density(alpha=.2, col=\"blue\") \n",
    "g8<-ggplot(data,aes(x=credit_score))+geom_histogram(aes(y=..density..))+geom_density(alpha=.2, col=\"blue\") \n",
    "\n",
    "grid.arrange(g3,g4,g5,g6,g7,g8,ncol=3)\n",
    "rm(g3,g4,g5,g6,g7,g8)"
   ]
  },
  {
   "cell_type": "code",
   "execution_count": null,
   "id": "b3649cfb-8512-4b7b-adee-76d0198831b8",
   "metadata": {},
   "outputs": [],
   "source": [
    "library(corrplot)\n",
    "corrplot(cor(data[,c(1,4,5,7,9,10,11,12)]),method=\"ellipse\")\n",
    "boxplot(data[4])"
   ]
  },
  {
   "cell_type": "code",
   "execution_count": null,
   "id": "fb6c82e3-9d36-4c57-b0fb-9a57b3039660",
   "metadata": {},
   "outputs": [],
   "source": [
    "library(FactoMineR)\n",
    "acp <- PCA(data[, c(1,4,5,7,9,10,11,12)], scale.unit = TRUE,\n",
    "           graph = FALSE, ncp = 8)\n",
    "# Eigenvalue decay\n",
    "library(factoextra)\n",
    "g1<-fviz_eig(acp, addlabels = TRUE, ylim = c(0, 40))\n",
    "library(reshape2)\n",
    "g2<-ggplot(melt(acp$ind$coord),aes(x=Var2,y=value))+\n",
    "  geom_boxplot()+\n",
    "  xlab(\"\")\n",
    "grid.arrange(g1,g2,ncol=2)\n",
    "# \n",
    "library(corrplot)\n",
    "corrplot(acp$var$cor, is.corr=FALSE,method=\"ellipse\")"
   ]
  },
  {
   "cell_type": "code",
   "execution_count": null,
   "id": "3bd1d1d7-8adf-4389-bf92-96fd8edb2c7e",
   "metadata": {},
   "outputs": [],
   "source": [
    "barplot(data[person_age])"
   ]
  },
  {
   "cell_type": "code",
   "execution_count": null,
   "id": "035e0b52-9f98-4c34-ac42-95785bc9b82a",
   "metadata": {},
   "outputs": [],
   "source": []
  },
  {
   "cell_type": "code",
   "execution_count": null,
   "id": "304071cb-f62a-4ca0-aa63-eb7f91c00a2d",
   "metadata": {},
   "outputs": [],
   "source": []
  },
  {
   "cell_type": "code",
   "execution_count": null,
   "id": "4fd7b151-153a-4c51-b9dd-4600f3fcd8ba",
   "metadata": {},
   "outputs": [],
   "source": []
  },
  {
   "cell_type": "code",
   "execution_count": null,
   "id": "226094f9-ebaa-4bb4-b43b-d795a582ef3f",
   "metadata": {},
   "outputs": [],
   "source": []
  },
  {
   "cell_type": "code",
   "execution_count": null,
   "id": "6b9ed921-e64d-4c51-86e6-3b75ec5e4652",
   "metadata": {},
   "outputs": [],
   "source": []
  },
  {
   "cell_type": "code",
   "execution_count": null,
   "id": "416837a2-93dc-4bff-93ba-d414ff659acc",
   "metadata": {},
   "outputs": [],
   "source": []
  }
 ],
 "metadata": {
  "kernelspec": {
   "display_name": "R",
   "language": "R",
   "name": "ir"
  },
  "language_info": {
   "codemirror_mode": "r",
   "file_extension": ".r",
   "mimetype": "text/x-r-source",
   "name": "R",
   "pygments_lexer": "r",
   "version": "4.1.3"
  }
 },
 "nbformat": 4,
 "nbformat_minor": 5
}
